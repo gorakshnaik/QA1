{
 "cells": [
  {
   "cell_type": "code",
   "execution_count": 1,
   "id": "2af84051",
   "metadata": {},
   "outputs": [
    {
     "data": {
      "text/plain": [
       "'C:\\\\Users\\\\DELL'"
      ]
     },
     "execution_count": 1,
     "metadata": {},
     "output_type": "execute_result"
    }
   ],
   "source": [
    "pwd"
   ]
  },
  {
   "cell_type": "code",
   "execution_count": 2,
   "id": "19fe306c",
   "metadata": {},
   "outputs": [],
   "source": [
    "import os"
   ]
  },
  {
   "cell_type": "code",
   "execution_count": 4,
   "id": "0a0cf865",
   "metadata": {},
   "outputs": [],
   "source": [
    "os.chdir('C:\\\\Users\\\\DELL\\\\Desktop\\\\DA\\\\Path')"
   ]
  },
  {
   "cell_type": "code",
   "execution_count": 5,
   "id": "0f907c9b",
   "metadata": {},
   "outputs": [
    {
     "data": {
      "text/plain": [
       "'C:\\\\Users\\\\DELL\\\\Desktop\\\\DA\\\\Path'"
      ]
     },
     "execution_count": 5,
     "metadata": {},
     "output_type": "execute_result"
    }
   ],
   "source": [
    "pwd"
   ]
  },
  {
   "cell_type": "code",
   "execution_count": 6,
   "id": "3f4dd428",
   "metadata": {},
   "outputs": [],
   "source": [
    "x=8"
   ]
  },
  {
   "cell_type": "code",
   "execution_count": 7,
   "id": "786766bc",
   "metadata": {},
   "outputs": [],
   "source": [
    "y=10"
   ]
  },
  {
   "cell_type": "code",
   "execution_count": 8,
   "id": "24268242",
   "metadata": {},
   "outputs": [
    {
     "name": "stdout",
     "output_type": "stream",
     "text": [
      "5.0\n"
     ]
    }
   ],
   "source": [
    "test=x//3*3/2+y%2**2\n",
    "print(test)"
   ]
  },
  {
   "cell_type": "code",
   "execution_count": 10,
   "id": "a2f6edb5",
   "metadata": {},
   "outputs": [
    {
     "name": "stdout",
     "output_type": "stream",
     "text": [
      "how old were at the time of joining24\n",
      "how old are yo today32\n"
     ]
    }
   ],
   "source": [
    "start=input('how old were at the time of joining')\n",
    "end=input('how old are yo today')"
   ]
  },
  {
   "cell_type": "code",
   "execution_count": 11,
   "id": "4d8a2093",
   "metadata": {},
   "outputs": [
    {
     "name": "stdout",
     "output_type": "stream",
     "text": [
      "congratulation on8years of service!\n"
     ]
    }
   ],
   "source": [
    "print('congratulation on'+str(int(end)-int(start))+'years of service!')"
   ]
  },
  {
   "cell_type": "code",
   "execution_count": 12,
   "id": "0d64d0fe",
   "metadata": {},
   "outputs": [],
   "source": [
    "x='ACROTE'"
   ]
  },
  {
   "cell_type": "code",
   "execution_count": 13,
   "id": "c26e2185",
   "metadata": {},
   "outputs": [],
   "source": [
    "Y='APPLE'"
   ]
  },
  {
   "cell_type": "code",
   "execution_count": 14,
   "id": "9396ec1d",
   "metadata": {},
   "outputs": [],
   "source": [
    "Z='TOMATO'"
   ]
  },
  {
   "cell_type": "code",
   "execution_count": 16,
   "id": "d390fd51",
   "metadata": {},
   "outputs": [
    {
     "name": "stdout",
     "output_type": "stream",
     "text": [
      "RPO\n"
     ]
    }
   ],
   "source": [
    "print(x[2]+Y[1]+Z[1])"
   ]
  },
  {
   "cell_type": "code",
   "execution_count": 17,
   "id": "c6a585ec",
   "metadata": {},
   "outputs": [],
   "source": [
    "X='DURGA'"
   ]
  },
  {
   "cell_type": "code",
   "execution_count": 18,
   "id": "8aceb9ec",
   "metadata": {},
   "outputs": [],
   "source": [
    "Y='DURGA'"
   ]
  },
  {
   "cell_type": "code",
   "execution_count": 21,
   "id": "0952ac69",
   "metadata": {},
   "outputs": [
    {
     "data": {
      "text/plain": [
       "True"
      ]
     },
     "execution_count": 21,
     "metadata": {},
     "output_type": "execute_result"
    }
   ],
   "source": [
    "X is Y"
   ]
  },
  {
   "cell_type": "code",
   "execution_count": 22,
   "id": "bfbc767a",
   "metadata": {},
   "outputs": [],
   "source": [
    "a1='10'"
   ]
  },
  {
   "cell_type": "code",
   "execution_count": 23,
   "id": "32618ac9",
   "metadata": {},
   "outputs": [],
   "source": [
    "b1=3"
   ]
  },
  {
   "cell_type": "code",
   "execution_count": 24,
   "id": "3d50723b",
   "metadata": {},
   "outputs": [],
   "source": [
    "c1=a1*b1"
   ]
  },
  {
   "cell_type": "code",
   "execution_count": 25,
   "id": "45b2db5b",
   "metadata": {},
   "outputs": [
    {
     "data": {
      "text/plain": [
       "str"
      ]
     },
     "execution_count": 25,
     "metadata": {},
     "output_type": "execute_result"
    }
   ],
   "source": [
    "type(c1)"
   ]
  },
  {
   "cell_type": "code",
   "execution_count": 28,
   "id": "12ac15ec",
   "metadata": {},
   "outputs": [],
   "source": [
    "a2=10"
   ]
  },
  {
   "cell_type": "code",
   "execution_count": 27,
   "id": "f1370bc4",
   "metadata": {},
   "outputs": [],
   "source": [
    "b2=3"
   ]
  },
  {
   "cell_type": "code",
   "execution_count": 29,
   "id": "58411593",
   "metadata": {},
   "outputs": [],
   "source": [
    "c2=a2/b2"
   ]
  },
  {
   "cell_type": "code",
   "execution_count": 30,
   "id": "1640b3cb",
   "metadata": {},
   "outputs": [
    {
     "data": {
      "text/plain": [
       "float"
      ]
     },
     "execution_count": 30,
     "metadata": {},
     "output_type": "execute_result"
    }
   ],
   "source": [
    "type(c2)"
   ]
  },
  {
   "cell_type": "code",
   "execution_count": 31,
   "id": "ae6c5108",
   "metadata": {},
   "outputs": [
    {
     "data": {
      "text/plain": [
       "'101010'"
      ]
     },
     "execution_count": 31,
     "metadata": {},
     "output_type": "execute_result"
    }
   ],
   "source": [
    "'10'*3"
   ]
  },
  {
   "cell_type": "code",
   "execution_count": 32,
   "id": "3950f5ec",
   "metadata": {},
   "outputs": [
    {
     "data": {
      "text/plain": [
       "3"
      ]
     },
     "execution_count": 32,
     "metadata": {},
     "output_type": "execute_result"
    }
   ],
   "source": [
    "13//4"
   ]
  },
  {
   "cell_type": "code",
   "execution_count": 33,
   "id": "e7219d0e",
   "metadata": {},
   "outputs": [
    {
     "data": {
      "text/plain": [
       "3.6666666666666665"
      ]
     },
     "execution_count": 33,
     "metadata": {},
     "output_type": "execute_result"
    }
   ],
   "source": [
    "11/3"
   ]
  },
  {
   "cell_type": "code",
   "execution_count": 34,
   "id": "fd55d18c",
   "metadata": {},
   "outputs": [
    {
     "data": {
      "text/plain": [
       "3"
      ]
     },
     "execution_count": 34,
     "metadata": {},
     "output_type": "execute_result"
    }
   ],
   "source": [
    "3**1"
   ]
  },
  {
   "cell_type": "code",
   "execution_count": 35,
   "id": "d6ded9ea",
   "metadata": {},
   "outputs": [
    {
     "data": {
      "text/plain": [
       "3"
      ]
     },
     "execution_count": 35,
     "metadata": {},
     "output_type": "execute_result"
    }
   ],
   "source": [
    "23%5"
   ]
  },
  {
   "cell_type": "code",
   "execution_count": 36,
   "id": "11a93b0f",
   "metadata": {},
   "outputs": [],
   "source": [
    "a=1"
   ]
  },
  {
   "cell_type": "code",
   "execution_count": 37,
   "id": "034a20df",
   "metadata": {},
   "outputs": [],
   "source": [
    "b=3"
   ]
  },
  {
   "cell_type": "code",
   "execution_count": 38,
   "id": "c49146c8",
   "metadata": {},
   "outputs": [],
   "source": [
    "c=5"
   ]
  },
  {
   "cell_type": "code",
   "execution_count": 39,
   "id": "13cac083",
   "metadata": {},
   "outputs": [],
   "source": [
    "d=7"
   ]
  },
  {
   "cell_type": "code",
   "execution_count": 40,
   "id": "37b0f64c",
   "metadata": {},
   "outputs": [
    {
     "data": {
      "text/plain": [
       "1"
      ]
     },
     "execution_count": 40,
     "metadata": {},
     "output_type": "execute_result"
    }
   ],
   "source": [
    "a-b//d"
   ]
  },
  {
   "cell_type": "code",
   "execution_count": 41,
   "id": "2de04a8d",
   "metadata": {},
   "outputs": [
    {
     "data": {
      "text/plain": [
       "0"
      ]
     },
     "execution_count": 41,
     "metadata": {},
     "output_type": "execute_result"
    }
   ],
   "source": [
    "a**d-1"
   ]
  },
  {
   "cell_type": "code",
   "execution_count": 42,
   "id": "d7fd0e89",
   "metadata": {},
   "outputs": [
    {
     "data": {
      "text/plain": [
       "7"
      ]
     },
     "execution_count": 42,
     "metadata": {},
     "output_type": "execute_result"
    }
   ],
   "source": [
    "a+b*2"
   ]
  },
  {
   "cell_type": "code",
   "execution_count": 43,
   "id": "cf9eaccc",
   "metadata": {},
   "outputs": [
    {
     "data": {
      "text/plain": [
       "0"
      ]
     },
     "execution_count": 43,
     "metadata": {},
     "output_type": "execute_result"
    }
   ],
   "source": [
    "a%b-1"
   ]
  },
  {
   "cell_type": "code",
   "execution_count": 44,
   "id": "c85e540a",
   "metadata": {},
   "outputs": [
    {
     "data": {
      "text/plain": [
       "6"
      ]
     },
     "execution_count": 44,
     "metadata": {},
     "output_type": "execute_result"
    }
   ],
   "source": [
    "a*d-1"
   ]
  },
  {
   "cell_type": "code",
   "execution_count": 45,
   "id": "6ccb36a9",
   "metadata": {},
   "outputs": [],
   "source": [
    "s='AB CD'"
   ]
  },
  {
   "cell_type": "code",
   "execution_count": 46,
   "id": "e943ae08",
   "metadata": {},
   "outputs": [],
   "source": [
    "list=list(s)"
   ]
  },
  {
   "cell_type": "code",
   "execution_count": 49,
   "id": "bcdd4d59",
   "metadata": {},
   "outputs": [
    {
     "data": {
      "text/plain": [
       "['A', 'B', ' ', 'C', 'D', 'EF']"
      ]
     },
     "execution_count": 49,
     "metadata": {},
     "output_type": "execute_result"
    }
   ],
   "source": [
    "list"
   ]
  },
  {
   "cell_type": "code",
   "execution_count": 47,
   "id": "e2a66bdc",
   "metadata": {},
   "outputs": [],
   "source": [
    "list.append('EF')"
   ]
  },
  {
   "cell_type": "code",
   "execution_count": 48,
   "id": "ca064bca",
   "metadata": {},
   "outputs": [
    {
     "name": "stdout",
     "output_type": "stream",
     "text": [
      "['A', 'B', ' ', 'C', 'D', 'EF']\n"
     ]
    }
   ],
   "source": [
    "print(list)"
   ]
  },
  {
   "cell_type": "code",
   "execution_count": 56,
   "id": "550c4c49",
   "metadata": {},
   "outputs": [],
   "source": [
    "X='XY ZA'"
   ]
  },
  {
   "cell_type": "code",
   "execution_count": 57,
   "id": "0c13b99e",
   "metadata": {},
   "outputs": [
    {
     "ename": "TypeError",
     "evalue": "'list' object is not callable",
     "output_type": "error",
     "traceback": [
      "\u001b[1;31m---------------------------------------------------------------------------\u001b[0m",
      "\u001b[1;31mTypeError\u001b[0m                                 Traceback (most recent call last)",
      "Cell \u001b[1;32mIn[57], line 1\u001b[0m\n\u001b[1;32m----> 1\u001b[0m \u001b[38;5;28mlist\u001b[39m\u001b[38;5;241m=\u001b[39m\u001b[38;5;28;43mlist\u001b[39;49m\u001b[43m(\u001b[49m\u001b[43mX\u001b[49m\u001b[43m)\u001b[49m\n",
      "\u001b[1;31mTypeError\u001b[0m: 'list' object is not callable"
     ]
    }
   ],
   "source": [
    "list=list(X)"
   ]
  },
  {
   "cell_type": "code",
   "execution_count": 58,
   "id": "7e33b7ce",
   "metadata": {},
   "outputs": [],
   "source": [
    "s='ab cd'"
   ]
  },
  {
   "cell_type": "code",
   "execution_count": 61,
   "id": "cd96baee",
   "metadata": {},
   "outputs": [
    {
     "ename": "TypeError",
     "evalue": "'list' object is not callable",
     "output_type": "error",
     "traceback": [
      "\u001b[1;31m---------------------------------------------------------------------------\u001b[0m",
      "\u001b[1;31mTypeError\u001b[0m                                 Traceback (most recent call last)",
      "Cell \u001b[1;32mIn[61], line 1\u001b[0m\n\u001b[1;32m----> 1\u001b[0m \u001b[38;5;28mlist\u001b[39m\u001b[38;5;241m=\u001b[39m\u001b[38;5;28;43mlist\u001b[39;49m\u001b[43m(\u001b[49m\u001b[43ms\u001b[49m\u001b[43m)\u001b[49m\n",
      "\u001b[1;31mTypeError\u001b[0m: 'list' object is not callable"
     ]
    }
   ],
   "source": [
    "list=list(s)"
   ]
  },
  {
   "cell_type": "code",
   "execution_count": 62,
   "id": "3610756a",
   "metadata": {},
   "outputs": [],
   "source": [
    "a=5"
   ]
  },
  {
   "cell_type": "code",
   "execution_count": 63,
   "id": "84334b8f",
   "metadata": {},
   "outputs": [],
   "source": [
    "b=10"
   ]
  },
  {
   "cell_type": "code",
   "execution_count": 64,
   "id": "fb62d2bc",
   "metadata": {},
   "outputs": [],
   "source": [
    "c=2"
   ]
  },
  {
   "cell_type": "code",
   "execution_count": 65,
   "id": "9dc771b1",
   "metadata": {},
   "outputs": [],
   "source": [
    "d=True"
   ]
  },
  {
   "cell_type": "code",
   "execution_count": 66,
   "id": "a45ace16",
   "metadata": {},
   "outputs": [],
   "source": [
    "x=a+b*c\n",
    "y=a+b/d"
   ]
  },
  {
   "cell_type": "code",
   "execution_count": 68,
   "id": "ef077043",
   "metadata": {},
   "outputs": [
    {
     "name": "stdout",
     "output_type": "stream",
     "text": [
      "enter the first nu:3\n",
      "enter the second nu:4\n",
      "the result:7\n"
     ]
    }
   ],
   "source": [
    "x=input('enter the first nu:')\n",
    "y=input('enter the second nu:')\n",
    "print('the result:'+str(int(x)+int(y)))"
   ]
  },
  {
   "cell_type": "code",
   "execution_count": 69,
   "id": "2c5e90c7",
   "metadata": {},
   "outputs": [],
   "source": [
    "a=2"
   ]
  },
  {
   "cell_type": "code",
   "execution_count": 70,
   "id": "91416538",
   "metadata": {},
   "outputs": [],
   "source": [
    "b=3"
   ]
  },
  {
   "cell_type": "code",
   "execution_count": 71,
   "id": "ee50e4c3",
   "metadata": {},
   "outputs": [],
   "source": [
    "c=4"
   ]
  },
  {
   "cell_type": "code",
   "execution_count": 72,
   "id": "a856afdd",
   "metadata": {},
   "outputs": [],
   "source": [
    "d=5"
   ]
  },
  {
   "cell_type": "code",
   "execution_count": 73,
   "id": "1100f3b6",
   "metadata": {},
   "outputs": [
    {
     "data": {
      "text/plain": [
       "-5"
      ]
     },
     "execution_count": 73,
     "metadata": {},
     "output_type": "execute_result"
    }
   ],
   "source": [
    "a-b*c+d"
   ]
  },
  {
   "cell_type": "code",
   "execution_count": 74,
   "id": "2dba6fe0",
   "metadata": {},
   "outputs": [
    {
     "data": {
      "text/plain": [
       "-5"
      ]
     },
     "execution_count": 74,
     "metadata": {},
     "output_type": "execute_result"
    }
   ],
   "source": [
    "a-(b*c)+d"
   ]
  },
  {
   "cell_type": "code",
   "execution_count": 75,
   "id": "16176588",
   "metadata": {},
   "outputs": [],
   "source": [
    "weight=62.4"
   ]
  },
  {
   "cell_type": "code",
   "execution_count": 76,
   "id": "2aa501a9",
   "metadata": {},
   "outputs": [
    {
     "data": {
      "text/plain": [
       "float"
      ]
     },
     "execution_count": 76,
     "metadata": {},
     "output_type": "execute_result"
    }
   ],
   "source": [
    "type(weight)"
   ]
  },
  {
   "cell_type": "code",
   "execution_count": 77,
   "id": "a0c4dcdc",
   "metadata": {},
   "outputs": [],
   "source": [
    "z='8009'"
   ]
  },
  {
   "cell_type": "code",
   "execution_count": 78,
   "id": "9d8784d1",
   "metadata": {},
   "outputs": [
    {
     "data": {
      "text/plain": [
       "str"
      ]
     },
     "execution_count": 78,
     "metadata": {},
     "output_type": "execute_result"
    }
   ],
   "source": [
    "type(z)"
   ]
  },
  {
   "cell_type": "code",
   "execution_count": 79,
   "id": "c2911f6f",
   "metadata": {},
   "outputs": [],
   "source": [
    "v=+23E4"
   ]
  },
  {
   "cell_type": "code",
   "execution_count": 80,
   "id": "1e762f5a",
   "metadata": {},
   "outputs": [
    {
     "data": {
      "text/plain": [
       "float"
      ]
     },
     "execution_count": 80,
     "metadata": {},
     "output_type": "execute_result"
    }
   ],
   "source": [
    "type(v)"
   ]
  },
  {
   "cell_type": "code",
   "execution_count": 81,
   "id": "58e717ed",
   "metadata": {},
   "outputs": [],
   "source": [
    "a=bool([False])"
   ]
  },
  {
   "cell_type": "code",
   "execution_count": 82,
   "id": "da55d6ea",
   "metadata": {},
   "outputs": [
    {
     "data": {
      "text/plain": [
       "bool"
      ]
     },
     "execution_count": 82,
     "metadata": {},
     "output_type": "execute_result"
    }
   ],
   "source": [
    "type(a)"
   ]
  },
  {
   "cell_type": "code",
   "execution_count": 83,
   "id": "73bcb641",
   "metadata": {},
   "outputs": [],
   "source": [
    "b=bool(3)"
   ]
  },
  {
   "cell_type": "code",
   "execution_count": 84,
   "id": "0d3e6e83",
   "metadata": {},
   "outputs": [
    {
     "data": {
      "text/plain": [
       "bool"
      ]
     },
     "execution_count": 84,
     "metadata": {},
     "output_type": "execute_result"
    }
   ],
   "source": [
    "type(b)"
   ]
  },
  {
   "cell_type": "code",
   "execution_count": 85,
   "id": "7bcd4cbc",
   "metadata": {},
   "outputs": [],
   "source": [
    "c=bool('')"
   ]
  },
  {
   "cell_type": "code",
   "execution_count": 86,
   "id": "03ff69aa",
   "metadata": {},
   "outputs": [
    {
     "data": {
      "text/plain": [
       "bool"
      ]
     },
     "execution_count": 86,
     "metadata": {},
     "output_type": "execute_result"
    }
   ],
   "source": [
    "type(c)"
   ]
  },
  {
   "cell_type": "code",
   "execution_count": 87,
   "id": "e2756207",
   "metadata": {},
   "outputs": [],
   "source": [
    "a=21"
   ]
  },
  {
   "cell_type": "code",
   "execution_count": 88,
   "id": "b4fe3972",
   "metadata": {},
   "outputs": [],
   "source": [
    "b=6"
   ]
  },
  {
   "cell_type": "code",
   "execution_count": 89,
   "id": "68602db5",
   "metadata": {},
   "outputs": [
    {
     "name": "stdout",
     "output_type": "stream",
     "text": [
      "3.5\n"
     ]
    }
   ],
   "source": [
    "print(a/b)"
   ]
  },
  {
   "cell_type": "code",
   "execution_count": 90,
   "id": "e66c29d1",
   "metadata": {},
   "outputs": [
    {
     "name": "stdout",
     "output_type": "stream",
     "text": [
      "3\n"
     ]
    }
   ],
   "source": [
    "print(a//b)"
   ]
  },
  {
   "cell_type": "code",
   "execution_count": 91,
   "id": "29205cc5",
   "metadata": {},
   "outputs": [
    {
     "name": "stdout",
     "output_type": "stream",
     "text": [
      "3\n"
     ]
    }
   ],
   "source": [
    "print(a%b)"
   ]
  },
  {
   "cell_type": "code",
   "execution_count": 92,
   "id": "58491374",
   "metadata": {},
   "outputs": [],
   "source": [
    "subjects=['java', 'python', 'sap']"
   ]
  },
  {
   "cell_type": "code",
   "execution_count": 93,
   "id": "e1406240",
   "metadata": {},
   "outputs": [],
   "source": [
    "more_subjects=['java', 'python', 'sap']"
   ]
  },
  {
   "cell_type": "code",
   "execution_count": 94,
   "id": "70cd298f",
   "metadata": {},
   "outputs": [],
   "source": [
    "extra_subjects=more_subjects"
   ]
  },
  {
   "cell_type": "code",
   "execution_count": 95,
   "id": "d66e65cc",
   "metadata": {},
   "outputs": [
    {
     "name": "stdout",
     "output_type": "stream",
     "text": [
      "True\n"
     ]
    }
   ],
   "source": [
    "print(extra_subjects is more_subjects)"
   ]
  },
  {
   "cell_type": "code",
   "execution_count": 96,
   "id": "d4146e1c",
   "metadata": {},
   "outputs": [
    {
     "name": "stdout",
     "output_type": "stream",
     "text": [
      "False\n"
     ]
    }
   ],
   "source": [
    "print(subjects is more_subjects)"
   ]
  },
  {
   "cell_type": "code",
   "execution_count": 97,
   "id": "4b625c3f",
   "metadata": {},
   "outputs": [],
   "source": [
    "age=0"
   ]
  },
  {
   "cell_type": "code",
   "execution_count": 98,
   "id": "ece3e8b4",
   "metadata": {},
   "outputs": [
    {
     "data": {
      "text/plain": [
       "int"
      ]
     },
     "execution_count": 98,
     "metadata": {},
     "output_type": "execute_result"
    }
   ],
   "source": [
    "type(age)"
   ]
  },
  {
   "cell_type": "code",
   "execution_count": 99,
   "id": "7b9f5f5c",
   "metadata": {},
   "outputs": [],
   "source": [
    "minor=False"
   ]
  },
  {
   "cell_type": "code",
   "execution_count": 100,
   "id": "8f368a52",
   "metadata": {},
   "outputs": [
    {
     "data": {
      "text/plain": [
       "bool"
      ]
     },
     "execution_count": 100,
     "metadata": {},
     "output_type": "execute_result"
    }
   ],
   "source": [
    "type(minor)"
   ]
  },
  {
   "cell_type": "code",
   "execution_count": 101,
   "id": "3c9a4fd1",
   "metadata": {},
   "outputs": [],
   "source": [
    "name='durga'"
   ]
  },
  {
   "cell_type": "code",
   "execution_count": 102,
   "id": "ad197ea5",
   "metadata": {},
   "outputs": [
    {
     "data": {
      "text/plain": [
       "str"
      ]
     },
     "execution_count": 102,
     "metadata": {},
     "output_type": "execute_result"
    }
   ],
   "source": [
    "type(name)"
   ]
  },
  {
   "cell_type": "code",
   "execution_count": 103,
   "id": "40cabee5",
   "metadata": {},
   "outputs": [
    {
     "data": {
      "text/plain": [
       "8"
      ]
     },
     "execution_count": 103,
     "metadata": {},
     "output_type": "execute_result"
    }
   ],
   "source": [
    "8//3*4"
   ]
  },
  {
   "cell_type": "code",
   "execution_count": 104,
   "id": "0939ced6",
   "metadata": {},
   "outputs": [
    {
     "data": {
      "text/plain": [
       "8"
      ]
     },
     "execution_count": 104,
     "metadata": {},
     "output_type": "execute_result"
    }
   ],
   "source": [
    "8%3*4"
   ]
  },
  {
   "cell_type": "code",
   "execution_count": 105,
   "id": "ea55a4c0",
   "metadata": {},
   "outputs": [
    {
     "data": {
      "text/plain": [
       "2.6666666666666665"
      ]
     },
     "execution_count": 105,
     "metadata": {},
     "output_type": "execute_result"
    }
   ],
   "source": [
    "8/3%4"
   ]
  },
  {
   "cell_type": "code",
   "execution_count": 106,
   "id": "b874fdd9",
   "metadata": {},
   "outputs": [
    {
     "data": {
      "text/plain": [
       "-4"
      ]
     },
     "execution_count": 106,
     "metadata": {},
     "output_type": "execute_result"
    }
   ],
   "source": [
    "8-3*4"
   ]
  },
  {
   "cell_type": "code",
   "execution_count": 107,
   "id": "96ad8181",
   "metadata": {},
   "outputs": [],
   "source": [
    "s='python is easy'"
   ]
  },
  {
   "cell_type": "code",
   "execution_count": 108,
   "id": "7eb18f60",
   "metadata": {},
   "outputs": [],
   "source": [
    "s1=s[6:-4]"
   ]
  },
  {
   "cell_type": "code",
   "execution_count": 109,
   "id": "30c900ba",
   "metadata": {},
   "outputs": [],
   "source": [
    "s2=s1.strip()"
   ]
  },
  {
   "cell_type": "code",
   "execution_count": 110,
   "id": "e7e7f5ae",
   "metadata": {},
   "outputs": [
    {
     "name": "stdout",
     "output_type": "stream",
     "text": [
      "2\n"
     ]
    }
   ],
   "source": [
    "print(len(s2))"
   ]
  },
  {
   "cell_type": "code",
   "execution_count": 111,
   "id": "f5b5a93f",
   "metadata": {},
   "outputs": [
    {
     "name": "stdout",
     "output_type": "stream",
     "text": [
      "apple\n",
      "boy\n",
      "cat\n",
      "dog\n"
     ]
    }
   ],
   "source": [
    "l=['apple','boy','cat','dog']\n",
    "for x in l:\n",
    "    print(x)"
   ]
  },
  {
   "cell_type": "code",
   "execution_count": 112,
   "id": "8e0b156e",
   "metadata": {},
   "outputs": [
    {
     "name": "stdout",
     "output_type": "stream",
     "text": [
      "apple\n"
     ]
    }
   ],
   "source": [
    "l=['apple','boy','cat','dog']\n",
    "for x in l:\n",
    "    if len(x) !=3:\n",
    "        print(x)"
   ]
  },
  {
   "cell_type": "code",
   "execution_count": 113,
   "id": "4bfeda3e",
   "metadata": {},
   "outputs": [
    {
     "name": "stdout",
     "output_type": "stream",
     "text": [
      "boy\n",
      "cat\n",
      "dog\n"
     ]
    }
   ],
   "source": [
    "l=['apple','boy','cat','dog']\n",
    "for x in l:\n",
    "    if len(x)==3:\n",
    "        print(x)"
   ]
  },
  {
   "cell_type": "code",
   "execution_count": 114,
   "id": "c7f31086",
   "metadata": {},
   "outputs": [
    {
     "name": "stdout",
     "output_type": "stream",
     "text": [
      "boy\n",
      "cat\n",
      "dog\n"
     ]
    }
   ],
   "source": [
    "l=['apple','boy','cat','dog']\n",
    "l1=l[1:]\n",
    "for x in l1:\n",
    "    print(x)"
   ]
  },
  {
   "cell_type": "code",
   "execution_count": 115,
   "id": "e0c662d3",
   "metadata": {},
   "outputs": [],
   "source": [
    "a=15"
   ]
  },
  {
   "cell_type": "code",
   "execution_count": 116,
   "id": "536027df",
   "metadata": {},
   "outputs": [
    {
     "name": "stdout",
     "output_type": "stream",
     "text": [
      "3.0\n"
     ]
    }
   ],
   "source": [
    "a=15\n",
    "b=5\n",
    "print(a/b)"
   ]
  },
  {
   "cell_type": "code",
   "execution_count": 117,
   "id": "efa5553a",
   "metadata": {},
   "outputs": [],
   "source": [
    "a=1\n",
    "b=2\n",
    "c=4\n",
    "d=6"
   ]
  },
  {
   "cell_type": "code",
   "execution_count": 118,
   "id": "be4644ec",
   "metadata": {},
   "outputs": [
    {
     "data": {
      "text/plain": [
       "-4"
      ]
     },
     "execution_count": 118,
     "metadata": {},
     "output_type": "execute_result"
    }
   ],
   "source": [
    "(a+b)//d-c"
   ]
  },
  {
   "cell_type": "code",
   "execution_count": 119,
   "id": "d624f39c",
   "metadata": {},
   "outputs": [],
   "source": [
    "s='python is easy'"
   ]
  },
  {
   "cell_type": "code",
   "execution_count": 120,
   "id": "d8006703",
   "metadata": {},
   "outputs": [],
   "source": [
    "s1=s[-7:]"
   ]
  },
  {
   "cell_type": "code",
   "execution_count": 121,
   "id": "2357abf4",
   "metadata": {},
   "outputs": [
    {
     "data": {
      "text/plain": [
       "'is easy'"
      ]
     },
     "execution_count": 121,
     "metadata": {},
     "output_type": "execute_result"
    }
   ],
   "source": [
    "s1"
   ]
  },
  {
   "cell_type": "code",
   "execution_count": 122,
   "id": "bb976aea",
   "metadata": {},
   "outputs": [],
   "source": [
    "s2=s[-4:]"
   ]
  },
  {
   "cell_type": "code",
   "execution_count": 123,
   "id": "d684b945",
   "metadata": {},
   "outputs": [
    {
     "data": {
      "text/plain": [
       "'easy'"
      ]
     },
     "execution_count": 123,
     "metadata": {},
     "output_type": "execute_result"
    }
   ],
   "source": [
    "s2"
   ]
  },
  {
   "cell_type": "code",
   "execution_count": 124,
   "id": "f2c8662c",
   "metadata": {},
   "outputs": [
    {
     "name": "stdout",
     "output_type": "stream",
     "text": [
      "is easyeasy\n"
     ]
    }
   ],
   "source": [
    "print(s1+s2)"
   ]
  },
  {
   "cell_type": "code",
   "execution_count": 125,
   "id": "b7c30890",
   "metadata": {},
   "outputs": [],
   "source": [
    "numbers=[10,20,30,40]\n",
    "x=0"
   ]
  },
  {
   "cell_type": "code",
   "execution_count": 126,
   "id": "d56cdb73",
   "metadata": {},
   "outputs": [
    {
     "name": "stdout",
     "output_type": "stream",
     "text": [
      "20\n"
     ]
    }
   ],
   "source": [
    "for i in (30,40,50):\n",
    "    if i in numbers:\n",
    "        x=x+10\n",
    "print(x)"
   ]
  },
  {
   "cell_type": "code",
   "execution_count": 127,
   "id": "a3341402",
   "metadata": {},
   "outputs": [
    {
     "name": "stdout",
     "output_type": "stream",
     "text": [
      "30\n"
     ]
    }
   ],
   "source": [
    "for i in (30,40,50):\n",
    "    if i not in numbers:\n",
    "        x=x+10\n",
    "print(x)"
   ]
  },
  {
   "cell_type": "code",
   "execution_count": 128,
   "id": "2f775af3",
   "metadata": {},
   "outputs": [
    {
     "name": "stdout",
     "output_type": "stream",
     "text": [
      "40\n"
     ]
    }
   ],
   "source": [
    "for i in (30,40,50):\n",
    "    if i in numbers:\n",
    "        x=x+5\n",
    "print(x)"
   ]
  },
  {
   "cell_type": "code",
   "execution_count": 129,
   "id": "6e6c6fe0",
   "metadata": {},
   "outputs": [
    {
     "name": "stdout",
     "output_type": "stream",
     "text": [
      "50\n"
     ]
    }
   ],
   "source": [
    "for i in (30,40,50):\n",
    "    if i not in numbers:\n",
    "        x=x+10\n",
    "print(x)"
   ]
  },
  {
   "cell_type": "code",
   "execution_count": null,
   "id": "5f2a7207",
   "metadata": {},
   "outputs": [],
   "source": []
  }
 ],
 "metadata": {
  "kernelspec": {
   "display_name": "Python 3 (ipykernel)",
   "language": "python",
   "name": "python3"
  },
  "language_info": {
   "codemirror_mode": {
    "name": "ipython",
    "version": 3
   },
   "file_extension": ".py",
   "mimetype": "text/x-python",
   "name": "python",
   "nbconvert_exporter": "python",
   "pygments_lexer": "ipython3",
   "version": "3.10.9"
  }
 },
 "nbformat": 4,
 "nbformat_minor": 5
}
